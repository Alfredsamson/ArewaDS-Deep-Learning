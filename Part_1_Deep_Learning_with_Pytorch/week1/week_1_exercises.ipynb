{
  "cells": [
    {
      "cell_type": "markdown",
      "metadata": {
        "id": "fxRDTxqrh0Rz"
      },
      "source": [
        "<a href=\"https://colab.research.google.com/github/arewadataScience/ArewaDS-Deep-Learning/blob/main/Part_1_Deep_Learning_with_Pytorch/week1/week_1_exercises.ipynb\" target=\"_parent\"><img src=\"https://colab.research.google.com/assets/colab-badge.svg\" alt=\"Open In Colab\"/></a>"
      ]
    },
    {
      "cell_type": "markdown",
      "metadata": {
        "id": "tX48LdmEh0R4"
      },
      "source": [
        "## Arewa DataScience Academy\n",
        "### Deep Learning Cohort 1.0\n",
        "\n",
        "### WEEK 1 Exercises"
      ]
    },
    {
      "cell_type": "markdown",
      "metadata": {
        "id": "i3_7pi7wh0R7"
      },
      "source": [
        "### Exercises:\n",
        "Please, see week 1 exercises from [**Learn PyTorch for Deep Learning**: 00. Pytorch Fundamentals](https://www.learnpytorch.io/00_pytorch_fundamentals/#exercises)"
      ]
    },
    {
      "cell_type": "markdown",
      "metadata": {
        "id": "wVV-SDWih0R-"
      },
      "source": [
        "### Additional Exercise"
      ]
    },
    {
      "cell_type": "code",
      "execution_count": 1,
      "metadata": {
        "vscode": {
          "languageId": "plaintext"
        },
        "id": "TQls8VDuh0R_",
        "outputId": "ff854cd1-59fc-4c35-8db3-11243193e71f",
        "colab": {
          "base_uri": "https://localhost:8080/",
          "height": 35
        }
      },
      "outputs": [
        {
          "output_type": "execute_result",
          "data": {
            "text/plain": [
              "'2.6.0+cu124'"
            ],
            "application/vnd.google.colaboratory.intrinsic+json": {
              "type": "string"
            }
          },
          "metadata": {},
          "execution_count": 1
        }
      ],
      "source": [
        "import torch\n",
        "torch.__version__"
      ]
    },
    {
      "cell_type": "code",
      "source": [
        "#Create a random tensor with shape (7, 7).\n",
        "random_tensor = torch.rand(7,7)\n",
        "random_tensor"
      ],
      "metadata": {
        "id": "2awRpllTjGtY",
        "outputId": "c4f82438-edd3-42d6-dc21-e446f35be7f1",
        "colab": {
          "base_uri": "https://localhost:8080/"
        }
      },
      "execution_count": 2,
      "outputs": [
        {
          "output_type": "execute_result",
          "data": {
            "text/plain": [
              "tensor([[0.9709, 0.1886, 0.7619, 0.1309, 0.2184, 0.3355, 0.0266],\n",
              "        [0.3084, 0.9814, 0.9837, 0.0029, 0.5818, 0.8402, 0.5852],\n",
              "        [0.8609, 0.9351, 0.2387, 0.2069, 0.4034, 0.5250, 0.2241],\n",
              "        [0.8697, 0.9994, 0.4880, 0.2455, 0.4390, 0.6738, 0.5357],\n",
              "        [0.7165, 0.3165, 0.7587, 0.6908, 0.4715, 0.0457, 0.8287],\n",
              "        [0.6514, 0.0129, 0.1567, 0.0441, 0.6816, 0.4033, 0.2542],\n",
              "        [0.4603, 0.1553, 0.2051, 0.2943, 0.4005, 0.4602, 0.5854]])"
            ]
          },
          "metadata": {},
          "execution_count": 2
        }
      ]
    },
    {
      "cell_type": "code",
      "source": [],
      "metadata": {
        "id": "cJdL8yY2mZxe"
      },
      "execution_count": null,
      "outputs": []
    },
    {
      "cell_type": "code",
      "source": [
        "\n",
        "#Perform a matrix multiplication on the tensor from 2 with another random tensor with shape (1, 7) (hint: you may have to transpose the second tensor).\n",
        "\n",
        "# Assume tensor from step 2 is defined as follows (example tensor)\n",
        "tensor1 = torch.randn(3, 7)  # Shape: (3, 7)\n",
        "\n",
        "# Create another random tensor with shape (1, 7)\n",
        "tensor2 = torch.randn(1, 7)  # Shape: (1, 7)\n",
        "\n",
        "# Transpose tensor2 to make matrix multiplication possible\n",
        "tensor2_transposed = tensor2.T  # Shape: (7, 1)\n",
        "\n",
        "# Perform matrix multiplication\n",
        "result = torch.matmul(tensor1, tensor2_transposed)  # Result shape: (3, 1)\n",
        "\n",
        "print(\"Result of matrix multiplication:\\n\", result)\n"
      ],
      "metadata": {
        "id": "e30kB9shmZaL",
        "outputId": "e2dc0983-cafe-4301-a0e3-bf9af5c17074",
        "colab": {
          "base_uri": "https://localhost:8080/"
        }
      },
      "execution_count": 3,
      "outputs": [
        {
          "output_type": "stream",
          "name": "stdout",
          "text": [
            "Result of matrix multiplication:\n",
            " tensor([[-6.7335],\n",
            "        [-8.9494],\n",
            "        [-4.8085]])\n"
          ]
        }
      ]
    },
    {
      "cell_type": "code",
      "source": [
        "#Set the random seed to 0 and do exercises 2 & 3 over again.\n",
        "\n",
        "# Set the random seed to 0\n",
        "torch.manual_seed(0)\n",
        "\n",
        "# Exercise 2: Create a random tensor with shape (7, 7)\n",
        "random_tensor_2 = torch.rand(7, 7)\n",
        "print(\"Random Tensor (Exercise 2):\\n\", random_tensor_2)\n",
        "\n",
        "# Exercise 3: Perform matrix multiplication\n",
        "# Assume tensor from step 2 is defined as follows (example tensor)\n",
        "tensor1 = torch.randn(3, 7)  # Shape: (3, 7)\n",
        "\n",
        "# Create another random tensor with shape (1, 7)\n",
        "tensor2 = torch.randn(1, 7)  # Shape: (1, 7)\n",
        "\n",
        "# Transpose tensor2 to make matrix multiplication possible\n",
        "tensor2_transposed = tensor2.T  # Shape: (7, 1)\n",
        "\n",
        "# Perform matrix multiplication\n",
        "result = torch.matmul(tensor1, tensor2_transposed)  # Result shape: (3, 1)\n",
        "\n",
        "print(\"Result of matrix multiplication (Exercise 3):\\n\", result)\n"
      ],
      "metadata": {
        "id": "VjENfHPAmfCS",
        "outputId": "684533dc-a866-4e0e-83d3-51e0dbf16909",
        "colab": {
          "base_uri": "https://localhost:8080/"
        }
      },
      "execution_count": 4,
      "outputs": [
        {
          "output_type": "stream",
          "name": "stdout",
          "text": [
            "Random Tensor (Exercise 2):\n",
            " tensor([[0.4963, 0.7682, 0.0885, 0.1320, 0.3074, 0.6341, 0.4901],\n",
            "        [0.8964, 0.4556, 0.6323, 0.3489, 0.4017, 0.0223, 0.1689],\n",
            "        [0.2939, 0.5185, 0.6977, 0.8000, 0.1610, 0.2823, 0.6816],\n",
            "        [0.9152, 0.3971, 0.8742, 0.4194, 0.5529, 0.9527, 0.0362],\n",
            "        [0.1852, 0.3734, 0.3051, 0.9320, 0.1759, 0.2698, 0.1507],\n",
            "        [0.0317, 0.2081, 0.9298, 0.7231, 0.7423, 0.5263, 0.2437],\n",
            "        [0.5846, 0.0332, 0.1387, 0.2422, 0.8155, 0.7932, 0.2783]])\n",
            "Result of matrix multiplication (Exercise 3):\n",
            " tensor([[-1.2366],\n",
            "        [-5.3767],\n",
            "        [ 0.2430]])\n"
          ]
        }
      ]
    },
    {
      "cell_type": "code",
      "source": [],
      "metadata": {
        "id": "NaYXOiI9me6r"
      },
      "execution_count": null,
      "outputs": []
    },
    {
      "cell_type": "code",
      "source": [
        "#Speaking of random seeds, we saw how to set it with torch.manual_seed() but is there a GPU equivalent?\n",
        "# (hint: you'll need to look into the documentation for torch.cuda for this one).\n",
        "# If there is, set the GPU random seed to 1234.\n",
        "\n",
        "if torch.cuda.is_available():\n",
        "    torch.cuda.manual_seed(1234)\n"
      ],
      "metadata": {
        "id": "IzBxfEo1mvG0"
      },
      "execution_count": 5,
      "outputs": []
    },
    {
      "cell_type": "code",
      "source": [],
      "metadata": {
        "id": "XnFYZ7-am8Ra"
      },
      "execution_count": null,
      "outputs": []
    },
    {
      "cell_type": "code",
      "source": [
        "#Create two random tensors of shape (2, 3) and send them both to the GPU (you'll need access to a GPU for this).\n",
        "# Set torch.manual_seed(1234) when creating the tensors (this doesn't have to be the GPU random seed).\n",
        "\n",
        "# Check for GPU availability\n",
        "if torch.cuda.is_available():\n",
        "    device = torch.device(\"cuda\")\n",
        "    print(\"GPU is available\")\n",
        "else:\n",
        "    device = torch.device(\"cpu\")\n",
        "    print(\"GPU is not available, using CPU instead\")\n",
        "\n",
        "# Set the random seed\n",
        "torch.manual_seed(1234)\n",
        "\n",
        "# Create two random tensors of shape (2, 3)\n",
        "tensor1 = torch.rand(2, 3)\n",
        "tensor2 = torch.rand(2, 3)\n",
        "\n",
        "# Move tensors to the GPU\n",
        "tensor1 = tensor1.to(device)\n",
        "tensor2 = tensor2.to(device)\n",
        "\n",
        "print(\"Tensor 1:\\n\", tensor1)\n",
        "print(\"Tensor 2:\\n\", tensor2)\n"
      ],
      "metadata": {
        "id": "LvQiWprdnBM2",
        "outputId": "4d68c52e-3c37-4426-c00f-6ed96496af26",
        "colab": {
          "base_uri": "https://localhost:8080/"
        }
      },
      "execution_count": 6,
      "outputs": [
        {
          "output_type": "stream",
          "name": "stdout",
          "text": [
            "GPU is not available, using CPU instead\n",
            "Tensor 1:\n",
            " tensor([[0.0290, 0.4019, 0.2598],\n",
            "        [0.3666, 0.0583, 0.7006]])\n",
            "Tensor 2:\n",
            " tensor([[0.0518, 0.4681, 0.6738],\n",
            "        [0.3315, 0.7837, 0.5631]])\n"
          ]
        }
      ]
    },
    {
      "cell_type": "code",
      "source": [],
      "metadata": {
        "id": "633H8oW7nBFR"
      },
      "execution_count": null,
      "outputs": []
    },
    {
      "cell_type": "code",
      "source": [
        "#\n",
        "\n",
        "# Adjust the shape of tensor2 to be compatible with tensor1 for matrix multiplication\n",
        "tensor2_resized = tensor2.T  # Transpose tensor2\n",
        "\n",
        "# Perform matrix multiplication\n",
        "result = torch.matmul(tensor1, tensor2_resized)\n",
        "\n",
        "print(\"Result of matrix multiplication:\\n\", result)\n"
      ],
      "metadata": {
        "id": "D8d4D_CXnMrb",
        "outputId": "20d1f9eb-f50a-4a54-e78b-0c5befce5149",
        "colab": {
          "base_uri": "https://localhost:8080/"
        }
      },
      "execution_count": 7,
      "outputs": [
        {
          "output_type": "stream",
          "name": "stdout",
          "text": [
            "Result of matrix multiplication:\n",
            " tensor([[0.3647, 0.4709],\n",
            "        [0.5184, 0.5617]])\n"
          ]
        }
      ]
    },
    {
      "cell_type": "code",
      "source": [
        "# Find the maximum and minimum values of the output of 7.\n",
        "\n",
        "\n",
        "\n",
        "# Example: create a tensor\n",
        "my_tensor = torch.tensor([2, 7, 1, 9, 4])\n",
        "\n",
        "# Find max and min\n",
        "max_val = torch.max(my_tensor)\n",
        "min_val = torch.min(my_tensor)\n",
        "\n",
        "print(f\"Maximum: {max_val}\")\n",
        "print(f\"Minimum: {min_val}\")\n"
      ],
      "metadata": {
        "id": "QBcsSGcqnYe6",
        "outputId": "ac237442-1338-4db5-aa34-e6db024bc9ee",
        "colab": {
          "base_uri": "https://localhost:8080/"
        }
      },
      "execution_count": 8,
      "outputs": [
        {
          "output_type": "stream",
          "name": "stdout",
          "text": [
            "Maximum: 9\n",
            "Minimum: 1\n"
          ]
        }
      ]
    },
    {
      "cell_type": "code",
      "source": [
        "#Find the maximum and minimum index values of the output of 7.\n",
        "\n",
        "# Find the maximum and minimum values of the 'result' tensor\n",
        "result = torch.matmul(tensor1, tensor2_resized)  # Recalculate 'result'\n",
        "\n",
        "max_val = torch.max(result)\n",
        "min_val = torch.min(result)\n",
        "\n",
        "print(f\"Maximum value in 'result' tensor: {max_val}\")\n",
        "print(f\"Minimum value in 'result' tensor: {min_val}\")\n",
        "\n",
        "#To find the index of the maximum and minimum values\n",
        "max_index = torch.argmax(result)\n",
        "min_index = torch.argmin(result)\n",
        "\n",
        "print(f\"Index of maximum value in 'result' tensor: {max_index}\")\n",
        "print(f\"Index of minimum value in 'result' tensor: {min_index}\")\n"
      ],
      "metadata": {
        "id": "4lBntxwVnYKp",
        "outputId": "38ebf389-2ba6-49df-8eee-e2e924dfccab",
        "colab": {
          "base_uri": "https://localhost:8080/"
        }
      },
      "execution_count": 9,
      "outputs": [
        {
          "output_type": "stream",
          "name": "stdout",
          "text": [
            "Maximum value in 'result' tensor: 0.5617256760597229\n",
            "Minimum value in 'result' tensor: 0.3647301495075226\n",
            "Index of maximum value in 'result' tensor: 3\n",
            "Index of minimum value in 'result' tensor: 0\n"
          ]
        }
      ]
    },
    {
      "cell_type": "code",
      "source": [
        "#Make a random tensor with shape (1, 1, 1, 10) and then create a new tensor with all the 1 dimensions removed to be left with a tensor of shape (10). Set the seed to 7 when you create it and print out the first tensor and it's shape as well as the second tensor and it's shape.\n",
        "\n",
        "\n",
        "\n",
        "# Set the random seed\n",
        "torch.manual_seed(7)\n",
        "\n",
        "# Create a random tensor with shape (1, 1, 1, 10)\n",
        "tensor_1 = torch.rand(1, 1, 1, 10)\n",
        "\n",
        "# Print the tensor and its shape\n",
        "print(\"First Tensor:\\n\", tensor_1)\n",
        "print(\"First Tensor Shape:\", tensor_1.shape)\n",
        "\n",
        "# Remove all the 1 dimensions\n",
        "tensor_2 = tensor_1.squeeze()\n",
        "\n",
        "# Print the new tensor and its shape\n",
        "print(\"Second Tensor:\\n\", tensor_2)\n",
        "print(\"Second Tensor Shape:\", tensor_2.shape)\n"
      ],
      "metadata": {
        "id": "bdItsy_6oA8J",
        "outputId": "c8525657-71e4-4002-b76f-4986b04e2e40",
        "colab": {
          "base_uri": "https://localhost:8080/"
        }
      },
      "execution_count": 10,
      "outputs": [
        {
          "output_type": "stream",
          "name": "stdout",
          "text": [
            "First Tensor:\n",
            " tensor([[[[0.5349, 0.1988, 0.6592, 0.6569, 0.2328, 0.4251, 0.2071, 0.6297,\n",
            "           0.3653, 0.8513]]]])\n",
            "First Tensor Shape: torch.Size([1, 1, 1, 10])\n",
            "Second Tensor:\n",
            " tensor([0.5349, 0.1988, 0.6592, 0.6569, 0.2328, 0.4251, 0.2071, 0.6297, 0.3653,\n",
            "        0.8513])\n",
            "Second Tensor Shape: torch.Size([10])\n"
          ]
        }
      ]
    }
  ],
  "metadata": {
    "language_info": {
      "name": "python"
    },
    "colab": {
      "provenance": []
    },
    "kernelspec": {
      "name": "python3",
      "display_name": "Python 3"
    }
  },
  "nbformat": 4,
  "nbformat_minor": 0
}