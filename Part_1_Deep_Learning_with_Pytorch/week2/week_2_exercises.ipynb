{
  "cells": [
    {
      "cell_type": "markdown",
      "metadata": {
        "id": "I2bWaGokPIoI"
      },
      "source": [
        "<a href=\"https://colab.research.google.com/github/arewadataScience/ArewaDS-Deep-Learning/blob/main/Part_1_Deep_Learning_with_Pytorch/week2/week_2_exercises.ipynb\" target=\"_parent\"><img src=\"https://colab.research.google.com/assets/colab-badge.svg\" alt=\"Open In Colab\"/></a>"
      ]
    },
    {
      "cell_type": "markdown",
      "metadata": {
        "id": "7oXQ2mEgPIoR"
      },
      "source": [
        "## Arewa DataScience Academy\n",
        "### Deep Learning Cohort 1.0\n",
        "\n",
        "### WEEK 2 Exercises"
      ]
    },
    {
      "cell_type": "markdown",
      "metadata": {
        "id": "fqQR8tHWPIoW"
      },
      "source": [
        "### Exercises:\n",
        "Please, see week 2 exercises from [**Learn PyTorch for Deep Learning**: 01. Pytorch Workflows](https://www.learnpytorch.io/01_pytorch_workflow/#exercises)"
      ]
    },
    {
      "cell_type": "markdown",
      "metadata": {
        "id": "jlBWw93oPIoa"
      },
      "source": [
        "### Additional Exercise\n",
        "[Click to view PDF 📄](ArewaDS_Deep_Learning_Advanced_Assignment_Week2.pdf)"
      ]
    },
    {
      "cell_type": "code",
      "source": [
        "import torch\n",
        "from torch import nn # nn contains all of PyTorch's building blocks for neural networks\n",
        "import matplotlib.pyplot as plt"
      ],
      "metadata": {
        "id": "2EWKqCkRQyxl"
      },
      "execution_count": 2,
      "outputs": []
    },
    {
      "cell_type": "code",
      "execution_count": 3,
      "metadata": {
        "vscode": {
          "languageId": "plaintext"
        },
        "id": "x__76ZNnPIog",
        "outputId": "180edead-fe23-4e08-d956-a067700a7a92",
        "colab": {
          "base_uri": "https://localhost:8080/"
        }
      },
      "outputs": [
        {
          "output_type": "execute_result",
          "data": {
            "text/plain": [
              "(tensor([[0.0000],\n",
              "         [0.0200],\n",
              "         [0.0400],\n",
              "         [0.0600],\n",
              "         [0.0800],\n",
              "         [0.1000],\n",
              "         [0.1200],\n",
              "         [0.1400],\n",
              "         [0.1600],\n",
              "         [0.1800]]),\n",
              " tensor([[0.3000],\n",
              "         [0.3180],\n",
              "         [0.3360],\n",
              "         [0.3540],\n",
              "         [0.3720],\n",
              "         [0.3900],\n",
              "         [0.4080],\n",
              "         [0.4260],\n",
              "         [0.4440],\n",
              "         [0.4620]]))"
            ]
          },
          "metadata": {},
          "execution_count": 3
        }
      ],
      "source": [
        "# Create *known* parameters\n",
        "weight = 0.9\n",
        "bias = 0.3\n",
        "\n",
        "# Create data\n",
        "start = 0\n",
        "end = 1\n",
        "step = 0.02\n",
        "X = torch.arange(start, end, step).unsqueeze(dim=1)\n",
        "y = weight * X + bias\n",
        "\n",
        "X[:10], y[:10]"
      ]
    },
    {
      "cell_type": "code",
      "source": [
        "# Create train/test split\n",
        "train_split = int(0.8 * len(X)) # 80% of data used for training set, 20% for testing\n",
        "X_train, y_train = X[:train_split], y[:train_split]\n",
        "X_test, y_test = X[train_split:], y[train_split:]\n",
        "\n",
        "len(X_train), len(y_train), len(X_test), len(y_test)"
      ],
      "metadata": {
        "id": "VR4miAAaRFaf",
        "outputId": "deba504c-3a39-4d06-a38c-e59b2a661c15",
        "colab": {
          "base_uri": "https://localhost:8080/"
        }
      },
      "execution_count": 4,
      "outputs": [
        {
          "output_type": "execute_result",
          "data": {
            "text/plain": [
              "(40, 40, 10, 10)"
            ]
          },
          "metadata": {},
          "execution_count": 4
        }
      ]
    },
    {
      "cell_type": "code",
      "source": [
        "def plot_predictions(train_data=X_train,\n",
        "                     train_labels=y_train,\n",
        "                     test_data=X_test,\n",
        "                     test_labels=y_test,\n",
        "                     predictions=None):\n",
        "  \"\"\"\n",
        "  Plots training data, test data and compares predictions.\n",
        "  \"\"\"\n",
        "  plt.figure(figsize=(10, 7))\n",
        "\n",
        "  # Plot training data in blue\n",
        "  plt.scatter(train_data, train_labels, c=\"b\", s=4, label=\"Training data\")\n",
        "\n",
        "  # Plot test data in green\n",
        "  plt.scatter(test_data, test_labels, c=\"g\", s=4, label=\"Testing data\")\n",
        "\n",
        "  if predictions is not None:\n",
        "    # Plot the predictions in red (predictions were made on the test data)\n",
        "    plt.scatter(test_data, predictions, c=\"r\", s=4, label=\"Predictions\")\n",
        "\n",
        "  # Show the legend\n",
        "  plt.legend(prop={\"size\": 14})\n",
        "\n",
        "plot_predictions()"
      ],
      "metadata": {
        "id": "3PDJX-bURNCy",
        "outputId": "fdd74c0b-ad0b-41c8-addc-f0fa8ed0fe58",
        "colab": {
          "base_uri": "https://localhost:8080/",
          "height": 599
        }
      },
      "execution_count": 6,
      "outputs": [
        {
          "output_type": "display_data",
          "data": {
            "text/plain": [
              "<Figure size 1000x700 with 1 Axes>"
            ],
            "image/png": "[encoded data removed]"
          },
          "metadata": {}
        }
      ]
    },
    {
      "cell_type": "code",
      "source": [
        "# Define a custom Linear Regression model using nn.Parameter\n",
        "class LinearRegressionModel(nn.Module):\n",
        "    def __init__(self, input_dim, output_dim):\n",
        "        super(LinearRegressionModel, self).__init__()\n",
        "        # Random initialization of weights and bias\n",
        "        self.weights = nn.Parameter(torch.randn(input_dim, output_dim, requires_grad=True))\n",
        "        self.bias = nn.Parameter(torch.randn(output_dim, requires_grad=True))\n",
        "\n",
        "    def forward(self, x):\n",
        "        # Linear function: y = xW + b\n",
        "        return x @ self.weights + self.bias\n",
        "\n",
        "# Instantiate the model\n",
        "model =LinearRegressionModel(input_dim=1, output_dim=1)\n",
        "\n",
        "# Check model parameters (state_dict)\n",
        "print(\"Model state_dict:\")\n",
        "for param_name, param_value in model.state_dict().items():\n",
        "    print(f\"{param_name}: {param_value}\")"
      ],
      "metadata": {
        "id": "32LszJobRuYX",
        "outputId": "b8535074-4a88-4713-c749-7efebd037e29",
        "colab": {
          "base_uri": "https://localhost:8080/"
        }
      },
      "execution_count": 7,
      "outputs": [
        {
          "output_type": "stream",
          "name": "stdout",
          "text": [
            "Model state_dict:\n",
            "weights: tensor([[1.5696]])\n",
            "bias: tensor([-0.3505])\n"
          ]
        }
      ]
    },
    {
      "cell_type": "code",
      "source": [
        "# Create a Linear Regression model class\n",
        "class LinearRegressionModel(nn.Module): # <- almost everything in PyTorch is a nn.Module (think of this as neural network lego blocks)\n",
        "    def __init__(self):\n",
        "        super().__init__()\n",
        "        self.weights = nn.Parameter(torch.randn(1, # <- start with random weights (this will get adjusted as the model learns)\n",
        "                                                dtype=torch.float), # <- PyTorch loves float32 by default\n",
        "                                   requires_grad=True) # <- can we update this value with gradient descent?)\n",
        "\n",
        "        self.bias = nn.Parameter(torch.randn(1, # <- start with random bias (this will get adjusted as the model learns)\n",
        "                                            dtype=torch.float), # <- PyTorch loves float32 by default\n",
        "                                requires_grad=True) # <- can we update this value with gradient descent?))\n",
        "\n",
        "    # Forward defines the computation in the model\n",
        "    def forward(self, x: torch.Tensor) -> torch.Tensor: # <- \"x\" is the input data (e.g. training/testing features)\n",
        "        return self.weights * x + self.bias # <- this is the linear regression formula (y = m*x + b)"
      ],
      "metadata": {
        "id": "ldDKUU3bSQhV"
      },
      "execution_count": null,
      "outputs": []
    },
    {
      "cell_type": "code",
      "source": [
        "# Assuming we're doing univariate regression (input_dim=1)\n",
        "X_train = torch.randn(100, 1)\n",
        "y_train = 3 * X_train + 2 + torch.randn(100, 1) * 0.1  # y = 3x + 2 + noise\n",
        "\n",
        "X_test = torch.randn(20, 1)\n",
        "y_test = 3 * X_test + 2 + torch.randn(20, 1) * 0.1\n",
        "\n",
        "# Initialize model\n",
        "model = LinearRegressionModel(input_dim=1, output_dim=1)\n",
        "\n",
        "# Define L1 loss (Mean Absolute Error)\n",
        "loss_fn = nn.L1Loss()\n",
        "\n",
        "# Optimizer: Stochastic Gradient Descent\n",
        "optimizer = torch.optim.SGD(params=model.parameters(), lr=0.01)\n",
        "\n",
        "# Training Loop\n",
        "epochs = 300\n",
        "\n",
        "for epoch in range(1, epochs + 1):\n",
        "    model.train()\n",
        "\n",
        "    # Forward pass\n",
        "    y_pred = model(X_train)\n",
        "\n",
        "    # Compute loss\n",
        "    loss = loss_fn(y_pred, y_train)\n",
        "\n",
        "    # Backpropagation\n",
        "    optimizer.zero_grad()\n",
        "    loss.backward()\n",
        "    optimizer.step()\n",
        "\n",
        "    # Test every 20 epochs\n",
        "    if epoch % 20 == 0:\n",
        "        model.eval()\n",
        "        with torch.no_grad():\n",
        "            test_preds = model(X_test)\n",
        "            test_loss = loss_fn(test_preds, y_test)\n",
        "        print(f\"Epoch {epoch:3d} | Train Loss: {loss.item():.4f} | Test Loss: {test_loss.item():.4f}\")"
      ],
      "metadata": {
        "id": "idT6ZjXYSQWF",
        "outputId": "71becb12-85da-4685-e4d5-0d3bfdc4659f",
        "colab": {
          "base_uri": "https://localhost:8080/"
        }
      },
      "execution_count": 8,
      "outputs": [
        {
          "output_type": "stream",
          "name": "stdout",
          "text": [
            "Epoch  20 | Train Loss: 2.6385 | Test Loss: 2.6139\n",
            "Epoch  40 | Train Loss: 2.5030 | Test Loss: 2.4764\n",
            "Epoch  60 | Train Loss: 2.3676 | Test Loss: 2.3389\n",
            "Epoch  80 | Train Loss: 2.2326 | Test Loss: 2.2023\n",
            "Epoch 100 | Train Loss: 2.0977 | Test Loss: 2.0660\n",
            "Epoch 120 | Train Loss: 1.9629 | Test Loss: 1.9296\n",
            "Epoch 140 | Train Loss: 1.8280 | Test Loss: 1.7933\n",
            "Epoch 160 | Train Loss: 1.6932 | Test Loss: 1.6571\n",
            "Epoch 180 | Train Loss: 1.5589 | Test Loss: 1.5220\n",
            "Epoch 200 | Train Loss: 1.4246 | Test Loss: 1.3870\n",
            "Epoch 220 | Train Loss: 1.2903 | Test Loss: 1.2519\n",
            "Epoch 240 | Train Loss: 1.1560 | Test Loss: 1.1169\n",
            "Epoch 260 | Train Loss: 1.0221 | Test Loss: 0.9828\n",
            "Epoch 280 | Train Loss: 0.8883 | Test Loss: 0.8491\n",
            "Epoch 300 | Train Loss: 0.7555 | Test Loss: 0.7171\n"
          ]
        }
      ]
    },
    {
      "cell_type": "code",
      "source": [
        "# Ensure model is in eval mode\n",
        "model.eval()\n",
        "\n",
        "# Move data and predictions to CPU for plotting\n",
        "with torch.no_grad():\n",
        "    X_train_cpu = X_train.cpu()\n",
        "    y_train_cpu = y_train.cpu()\n",
        "    X_test_cpu = X_test.cpu()\n",
        "    y_test_cpu = y_test.cpu()\n",
        "\n",
        "    predictions = model(X_test_cpu)\n",
        "\n",
        "# Plotting\n",
        "plt.figure(figsize=(10, 6))\n",
        "\n",
        "# Plot training data\n",
        "plt.scatter(X_train_cpu.numpy(), y_train_cpu.numpy(), color='blue', label='Training Data')\n",
        "\n",
        "# Plot test data\n",
        "plt.scatter(X_test_cpu.numpy(), y_test_cpu.numpy(), color='green', label='Testing Data')\n",
        "\n",
        "# Plot predictions\n",
        "plt.scatter(X_test_cpu.numpy(), predictions.cpu().numpy(), color='red', label='Predictions on Test Data', marker='x')\n",
        "\n",
        "plt.title(\"Linear Regression Predictions vs Data\")\n",
        "plt.xlabel(\"X\")\n",
        "plt.ylabel(\"y\")\n",
        "plt.legend()\n",
        "plt.grid(True)\n",
        "plt.show()"
      ],
      "metadata": {
        "id": "6h2k_MtCSQHQ",
        "outputId": "d1c192a2-036f-47a9-cb25-1a47b61849e9",
        "colab": {
          "base_uri": "https://localhost:8080/",
          "height": 564
        }
      },
      "execution_count": 9,
      "outputs": [
        {
          "output_type": "display_data",
          "data": {
            "text/plain": [
              "<Figure size 1000x600 with 1 Axes>"
            ],
            "image/png": "[encoded data removed]"
          },
          "metadata": {}
        }
      ]
    },
    {
      "cell_type": "code",
      "source": [
        "from sklearn.metrics import mean_absolute_error, mean_squared_error, r2_score\n",
        "\n",
        "# Ensure model is in eval mode\n",
        "model.eval()\n",
        "\n",
        "with torch.no_grad():\n",
        "    y_pred_test = model(X_test).cpu().numpy()\n",
        "    y_true_test = y_test.cpu().numpy()\n",
        "\n",
        "# Compute regression metrics\n",
        "mae = mean_absolute_error(y_true_test, y_pred_test)\n",
        "mse = mean_squared_error(y_true_test, y_pred_test)\n",
        "r2 = r2_score(y_true_test, y_pred_test)\n",
        "\n",
        "print(f\"📊 Model Evaluation on Test Data:\")\n",
        "print(f\"🔹 MAE (Mean Absolute Error): {mae:.4f}\")\n",
        "print(f\"🔹 MSE (Mean Squared Error): {mse:.4f}\")\n",
        "print(f\"🔹 R² Score: {r2:.4f}\")"
      ],
      "metadata": {
        "id": "AE9ulQynUko8",
        "outputId": "8ae6034f-3369-4433-b5f1-43d7de7865b4",
        "colab": {
          "base_uri": "https://localhost:8080/"
        }
      },
      "execution_count": 10,
      "outputs": [
        {
          "output_type": "stream",
          "name": "stdout",
          "text": [
            "📊 Model Evaluation on Test Data:\n",
            "🔹 MAE (Mean Absolute Error): 0.7171\n",
            "🔹 MSE (Mean Squared Error): 0.6489\n",
            "🔹 R² Score: 0.8694\n"
          ]
        }
      ]
    },
    {
      "cell_type": "code",
      "source": [
        "from pathlib import Path\n",
        "\n",
        "# 1. Create models directory\n",
        "MODEL_PATH = Path(\"models\")\n",
        "MODEL_PATH.mkdir(parents=True, exist_ok=True)\n",
        "\n",
        "# 2. Create model save path\n",
        "MODEL_NAME = \"01_pytorch_workflow_model_1.pth\"\n",
        "MODEL_SAVE_PATH = MODEL_PATH / MODEL_NAME\n",
        "\n",
        "# 3. Save the model state dict\n",
        "print(f\"Saving model to: {MODEL_SAVE_PATH}\")\n",
        "torch.save(obj=model.state_dict(), # only saving the state_dict() only saves the models learned parameters\n",
        "           f=MODEL_SAVE_PATH)"
      ],
      "metadata": {
        "id": "Qgu_o6ePUkk6",
        "outputId": "46b43b87-66c7-4016-d21c-e52d4d727f62",
        "colab": {
          "base_uri": "https://localhost:8080/"
        }
      },
      "execution_count": 12,
      "outputs": [
        {
          "output_type": "stream",
          "name": "stdout",
          "text": [
            "Saving model to: models/01_pytorch_workflow_model_1.pth\n"
          ]
        }
      ]
    },
    {
      "cell_type": "code",
      "source": [
        "# Instantiate a fresh instance of LinearRegressionModelV2\n",
        "loaded_model_1 = LinearRegressionModel(input_dim=1, output_dim=1) # Provide input_dim and output_dim\n",
        "\n",
        "# Load model state dict\n",
        "loaded_model_1.load_state_dict(torch.load(MODEL_SAVE_PATH))\n",
        "\n",
        "# Define the device\n",
        "# If you have a GPU available and CUDA installed, you can use:\n",
        "# device = torch.device(\"cuda\")\n",
        "# Otherwise, use CPU:\n",
        "device = torch.device(\"cpu\")\n",
        "\n",
        "# Put model to target device (if your data is on GPU, model will have to be on GPU to make predictions)\n",
        "loaded_model_1.to(device)\n",
        "\n",
        "print(f\"Loaded model:\\n{loaded_model_1}\")\n",
        "print(f\"Model on device:\\n{next(loaded_model_1.parameters()).device}\")"
      ],
      "metadata": {
        "id": "Wt5o5kjkUkXs",
        "outputId": "a1403990-e624-4f70-ff8d-f5ad57dc73a7",
        "colab": {
          "base_uri": "https://localhost:8080/"
        }
      },
      "execution_count": 16,
      "outputs": [
        {
          "output_type": "stream",
          "name": "stdout",
          "text": [
            "Loaded model:\n",
            "LinearRegressionModel()\n",
            "Model on device:\n",
            "cpu\n"
          ]
        }
      ]
    },
    {
      "cell_type": "code",
      "source": [
        "# Evaluate loaded model\n",
        "loaded_model_1.eval()\n",
        "with torch.inference_mode():\n",
        "    loaded_model_1_preds = loaded_model_1(X_test)\n",
        "\n",
        "# Get predictions from original model\n",
        "with torch.inference_mode():\n",
        "    y_preds = model(X_test) # Assuming 'model' is the original model\n",
        "\n",
        "#Compare predictions\n",
        "y_preds == loaded_model_1_preds"
      ],
      "metadata": {
        "id": "7IbP9jKXUkEu",
        "outputId": "7250dea8-9290-460e-9e3a-85bf57825718",
        "colab": {
          "base_uri": "https://localhost:8080/"
        }
      },
      "execution_count": 18,
      "outputs": [
        {
          "output_type": "execute_result",
          "data": {
            "text/plain": [
              "tensor([[True],\n",
              "        [True],\n",
              "        [True],\n",
              "        [True],\n",
              "        [True],\n",
              "        [True],\n",
              "        [True],\n",
              "        [True],\n",
              "        [True],\n",
              "        [True],\n",
              "        [True],\n",
              "        [True],\n",
              "        [True],\n",
              "        [True],\n",
              "        [True],\n",
              "        [True],\n",
              "        [True],\n",
              "        [True],\n",
              "        [True],\n",
              "        [True]])"
            ]
          },
          "metadata": {},
          "execution_count": 18
        }
      ]
    },
    {
      "cell_type": "code",
      "source": [],
      "metadata": {
        "id": "B27Dh_e9Wezl"
      },
      "execution_count": null,
      "outputs": []
    }
  ],
  "metadata": {
    "language_info": {
      "name": "python"
    },
    "colab": {
      "provenance": []
    },
    "kernelspec": {
      "name": "python3",
      "display_name": "Python 3"
    }
  },
  "nbformat": 4,
  "nbformat_minor": 0
}